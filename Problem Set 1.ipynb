{
 "cells": [
  {
   "cell_type": "markdown",
   "metadata": {},
   "source": [
    "# Import"
   ]
  },
  {
   "cell_type": "code",
   "execution_count": 1,
   "metadata": {},
   "outputs": [],
   "source": [
    "import scipy\n",
    "import functools\n",
    "\n",
    "import numpy as np\n",
    "np.random.seed(0)\n",
    "\n",
    "import random\n",
    "import math"
   ]
  },
  {
   "cell_type": "markdown",
   "metadata": {},
   "source": [
    "# 1"
   ]
  },
  {
   "cell_type": "markdown",
   "metadata": {},
   "source": [
    "\n",
    "She can choose 1, 2, 3, or 4 econ courses. Each will have their own set of possible permutations. Assuming order doesn't matter, for each quantity E of econ courses $\\in {1,2,3,4}$ there will be ${4\\choose E}$ ways to pick econ courses, and $4-E\\choose S$ many ways to choose the number of science courses. Therefore, for each E $\\in {1,2,3,4}$, the total number of possible permutations is ${4\\choose E} {4-E\\choose S}$. To get the total number of permutations, we add each of these together, i.e., \n",
    "\n",
    "Total Permuations = $$ \\sum_{E \\in {1,2,3,4}} {4\\choose E} {4-E\\choose S} = 425$$"
   ]
  },
  {
   "cell_type": "code",
   "execution_count": null,
   "metadata": {},
   "outputs": [],
   "source": [
    "n_choose_k = functools.partial(scipy.special.comb, exact=True) #just sets exact=True"
   ]
  },
  {
   "cell_type": "code",
   "execution_count": 24,
   "metadata": {},
   "outputs": [
    {
     "name": "stdout",
     "output_type": "stream",
     "text": [
      "Total # permutations = 425\n"
     ]
    }
   ],
   "source": [
    "esss = n_choose_k(N=4, k=1) * n_choose_k(N=8, k=3)\n",
    "eess = n_choose_k(N=4, k=2) * n_choose_k(N=8, k=2)\n",
    "eees = n_choose_k(N=4, k=3) * n_choose_k(N=8, k=1)\n",
    "eeee = n_choose_k(N=4, k=4) * n_choose_k(N=8, k=0)\n",
    "\n",
    "print(f'Total # permutations = {esss + eess + eees + eeee}')"
   ]
  },
  {
   "cell_type": "markdown",
   "metadata": {},
   "source": [
    "# 2"
   ]
  },
  {
   "cell_type": "code",
   "execution_count": null,
   "metadata": {},
   "outputs": [],
   "source": [
    "((2.25-(.75/2))**2)/(2.25**2)"
   ]
  },
  {
   "cell_type": "markdown",
   "metadata": {},
   "source": [
    "# 3"
   ]
  },
  {
   "cell_type": "markdown",
   "metadata": {},
   "source": [
    "# 4"
   ]
  },
  {
   "cell_type": "markdown",
   "metadata": {},
   "source": [
    "\n",
    "Let $J=$ number of people at CAAI whose names start with J.  \n",
    "Let $N=$ number of people at CAAI.  \n",
    "\n",
    "Let $P_1, P_2 = $ the first and second people you meet at CAAI, respectively.  \n",
    "\n",
    "Then $\\Pr\\big((P_1 \\in J) \\land (P_2 \\in J)\\big) = \\frac{1}{2} = \\frac{J}{N} * \\frac{J-1}{N-1}$\n",
    "\n",
    "Assuming that $N \\leq 50$, the following code indicates that there are two valid possibilities:\n",
    "* $J=3, N=4$\n",
    "* $J=15, N=21$\n",
    "\n",
    "Given the hint, I'd guess that 3 out of 4 people at CAAI have names that start with J. On the other hand, a quick glance at your website shows 11 people in total, and 5 with names that start with \"J\". With that in mind, I ran an extra simulation to be sure, and my guess appears to be correct."
   ]
  },
  {
   "cell_type": "code",
   "execution_count": 36,
   "metadata": {},
   "outputs": [
    {
     "name": "stdout",
     "output_type": "stream",
     "text": [
      "J=3, N=4 is a valid possibility\n",
      "J=15, N=21 is a valid possibility\n"
     ]
    }
   ],
   "source": [
    "for j in range(2,51):\n",
    "    for n in range(j+1, 51):\n",
    "        if 1/2 == (j/n)*(\n",
    "            (j-1)/(n-1)\n",
    "            ):\n",
    "                print(f'J={j}, N={n} is a valid possibility')"
   ]
  },
  {
   "cell_type": "code",
   "execution_count": 2,
   "metadata": {},
   "outputs": [],
   "source": [
    "def sim_choosing_j_names(n:int, j:int, sample_size:int):\n",
    "    \n",
    "    # create vector of 0 & 1, indicating whether an individual has a name starting with J\n",
    "    people=[1]*j + [0]*(n-j) \n",
    "    num_people = len(people)\n",
    "    \n",
    "    # randomly order\n",
    "    np.random.shuffle(people)\n",
    "    \n",
    "    met_two_j_names_counter = 0\n",
    "    for i in range(sample_size):\n",
    "        people_met = random.sample(population=people, k=2)\n",
    "        both_j_names = sum(people_met)==2\n",
    "        met_two_j_names_counter += both_j_names\n",
    "        \n",
    "    return met_two_j_names_counter / sample_size"
   ]
  },
  {
   "cell_type": "code",
   "execution_count": 9,
   "metadata": {},
   "outputs": [
    {
     "name": "stdout",
     "output_type": "stream",
     "text": [
      "J=3, N=4 is a valid possibility \n",
      " Approx prob = 0.50098\n",
      "J=15, N=21 is a valid possibility \n",
      " Approx prob = 0.49973\n"
     ]
    }
   ],
   "source": [
    "for j in range(2,22):\n",
    "    for n in range(j+1, 22):\n",
    "        approx_prob_meeting_two_js = sim_choosing_j_names(n=n, j=j, sample_size=100000)\n",
    "        if math.isclose(approx_prob_meeting_two_js, .5, rel_tol=0.01): # if approx probability is within 1% of 0.5\n",
    "            print(f'J={j}, N={n} is a valid possibility \\n Approx prob = {approx_prob_meeting_two_js}')"
   ]
  }
 ],
 "metadata": {
  "interpreter": {
   "hash": "7fe840cb6503e6e121073d91483f2f283b736cdf5bfd63e897a03cab3c1751ec"
  },
  "kernelspec": {
   "display_name": "Python 3.8.5 64-bit ('base': conda)",
   "language": "python",
   "name": "python3"
  },
  "language_info": {
   "codemirror_mode": {
    "name": "ipython",
    "version": 3
   },
   "file_extension": ".py",
   "mimetype": "text/x-python",
   "name": "python",
   "nbconvert_exporter": "python",
   "pygments_lexer": "ipython3",
   "version": "3.8.5"
  },
  "orig_nbformat": 4
 },
 "nbformat": 4,
 "nbformat_minor": 2
}
